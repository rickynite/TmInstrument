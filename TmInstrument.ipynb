{
 "cells": [
  {
   "cell_type": "code",
   "execution_count": 1,
   "id": "59814d1b-43e9-4b70-af29-c4300e7171fd",
   "metadata": {
    "tags": []
   },
   "outputs": [
    {
     "name": "stdout",
     "output_type": "stream",
     "text": [
      "------------------------------------------Command Sequence------------------------------------------\n",
      "Connected to:      Rohde&Schwarz,ZNB20,123456,1.00\n",
      "> *IDN?\n",
      "Rohde&Schwarz,ZNB20,123456,1.00\n",
      "> CALC:DATA? SDATA\n",
      "8.507416e-01,9.832794e-01,4.086000e-01,3.911884e-01,4.749336e-01,8.273829e-01,8.065995e-01,3.340855e\n",
      "-01,1.541453e-01,8.401461e-01,5.342019e-01,4.836401e-01,6.469041e-01,8.818482e-01,7.370747e-01,7.450\n",
      "974e-01,9.199255e-01,9.747917e-01,8.456256e-01,7.526771e-01,9.290774e-02,3.968811e-01,4.305573e-01,9\n",
      ".426816e-01,1.536510e-01,3.073497e-01,5.995673e-01,9.006441e-01,4.254915e-01,4.935963e-01,6.560219e-\n",
      "01,5.300489e-01,7.280158e-01,5.312966e-01,1.292859e-01,2.510128e-01,7.467577e-01,3.595232e-01,2. ...\n",
      "Disconnected from: Rohde&Schwarz,ZNB20,123456,1.00\n",
      "----------------------------------------2023-03-30 19:07:49-----------------------------------------\n"
     ]
    }
   ],
   "source": [
    "# test_script.py\n",
    "import threading\n",
    "import socket\n",
    "import time\n",
    "from TmInstrument import TmInstrument\n",
    "from TmInstrumentServer import TmInstrumentServer\n",
    "\n",
    "def start_emulator(emulator):\n",
    "    emulator.start()\n",
    "    # Give the emulator some time to start\n",
    "    time.sleep(2)\n",
    "\n",
    "def test_commands():\n",
    "    resource_name = 'TCPIP::127.0.0.1::5025::SOCKET'\n",
    "\n",
    "    # try:\n",
    "    vna = TmInstrument(resource_name)\n",
    "    vna.timeout = 5000  # Timeout in milliseconds\n",
    "    vna.opc_timeout = 5000  # OPC timeout in milliseconds\n",
    "\n",
    "    # Send the command sequence and receive the responses\n",
    "    commands = [\"*IDN?\", \"CALC:DATA? SDATA\"] #\"CONF:VOLT:DC 10,0.001\", \"MEAS:VOLT:DC?\", \"SYST:ERR?\"]\n",
    "    responses = vna.send_command_sequence(commands,max_row_length=100)       \n",
    "\n",
    "    time.sleep(2)\n",
    "\n",
    "emulator = TmInstrumentServer()\n",
    "emulator_thread = threading.Thread(target=start_emulator, args=(emulator,))\n",
    "emulator_thread.start()\n",
    "\n",
    "# Wait for the emulator to start\n",
    "with socket.socket(socket.AF_INET, socket.SOCK_STREAM) as s:\n",
    "    s.settimeout(5)  # Timeout in seconds\n",
    "    while True:\n",
    "        try:\n",
    "            s.connect((\"127.0.0.1\", 5025))\n",
    "            break\n",
    "        except:\n",
    "            pass\n",
    "\n",
    "test_commands()\n",
    "\n",
    "# Stop the emulator\n",
    "with socket.socket(socket.AF_INET, socket.SOCK_STREAM) as s:\n",
    "    s.connect((\"127.0.0.1\", 5025))\n",
    "    s.sendall(b\"DummyServer.stop\")\n",
    "\n",
    "emulator_thread.join()\n",
    "time.sleep(2)"
   ]
  }
 ],
 "metadata": {
  "kernelspec": {
   "display_name": "Python 3 (ipykernel)",
   "language": "python",
   "name": "python3"
  },
  "language_info": {
   "codemirror_mode": {
    "name": "ipython",
    "version": 3
   },
   "file_extension": ".py",
   "mimetype": "text/x-python",
   "name": "python",
   "nbconvert_exporter": "python",
   "pygments_lexer": "ipython3",
   "version": "3.10.6"
  }
 },
 "nbformat": 4,
 "nbformat_minor": 5
}
